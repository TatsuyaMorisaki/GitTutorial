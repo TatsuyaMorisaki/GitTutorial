{
 "cells": [
  {
   "cell_type": "markdown",
   "metadata": {},
   "source": [
    "# Git Tutorial"
   ]
  },
  {
   "cell_type": "markdown",
   "metadata": {},
   "source": [
    "## What you need\n",
    "\n",
    "- VScode\n",
    "- Git (for Windows)\n",
    "- GitHub account\n",
    "- Authentication App\n",
    "- Conda environment"
   ]
  },
  {
   "cell_type": "markdown",
   "metadata": {},
   "source": [
    "# What are Git and GitHub?\n",
    "\n",
    "- Git: a version control system\n",
    "- GitHub: a web-hosting service"
   ]
  },
  {
   "cell_type": "markdown",
   "metadata": {},
   "source": [
    "# Setting up configurations\n",
    "\n",
    "- Do you see a conda environment in the beginning of line in terminal?"
   ]
  },
  {
   "cell_type": "markdown",
   "metadata": {},
   "source": [
    "# How to create repositories\n",
    "\n",
    "- Creating a new repo on GitHub and cloning it into the local drive\n",
    "- Making an existing folder in the local drive to a Git repo and adding it to GitHub"
   ]
  },
  {
   "cell_type": "markdown",
   "metadata": {},
   "source": [
    "# Creating a new repo on GitHub and cloneing it"
   ]
  },
  {
   "cell_type": "code",
   "execution_count": null,
   "metadata": {
    "vscode": {
     "languageId": "plaintext"
    }
   },
   "outputs": [],
   "source": [
    "git clone [url]"
   ]
  },
  {
   "cell_type": "markdown",
   "metadata": {},
   "source": []
  }
 ],
 "metadata": {
  "language_info": {
   "name": "python"
  }
 },
 "nbformat": 4,
 "nbformat_minor": 2
}
